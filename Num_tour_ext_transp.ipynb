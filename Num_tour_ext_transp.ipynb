{
 "cells": [
  {
   "cell_type": "markdown",
   "id": "c4d5dd29",
   "metadata": {},
   "source": [
    "# The exterior transport problem : a numerical tour\n",
    "\n",
    "<p align=\"center\"> \n"
    "<img src=\"./pictures/gif_random_c_small.gif\" \n",
    "     width=\"30%;\"/>\n"
    "</p>\n",
    "\n",
    "\n",
    "## Welcome to the numerical tour of the exterior transport problem!\n",
    "\n",
    "The goal of this notebook is to provide numerical illustrations of the following problem:\n",
    "\n",
    "\\begin{equation}\n",
    "\\inf_E \\left\\{\\mathcal{E}(E) = P(E)+ c \\mathcal{W}_2^2(E) : |E| = \\pi \\right\\},\n",
    "\\end{equation}\n",
    "\n",
    "where $P$ denotes the perimeter, $\\mathcal{W}_2$ the exterior transport functional and $|\\cdot|$ the area. Simply put, we aim at  finding the set $E$ of the plane $\\mathbb{R}^2$ which minimizes the energy $\\mathcal{E}$ defined above. The parameter $c >0$ controls which term (P or $\\mathcal{W}_2$) is dominant in $\\mathcal{E}$.\n",
    "\n",
    "Refer to the [related article](./documentation/article_numerical_experiments.pdf) where every definition is given and commented in great details."
   ]
  },
  {
   "cell_type": "markdown",
   "id": "edf4c907",
   "metadata": {},
   "source": [
    "# The exterior transport functional\n",
    "\n",
    "The exterior transport functional $W_2^2$ is also defined through a minimisation problem. Given a set $E \\subset \\mathbb{R}^2$, we have\n",
    "\n",
    "\\begin{equation}\n",
    "\\mathcal{W}_2^2(E) = \\inf_F \\left\\{W_2^2(E,F) : |F \\cap E| = 0, \\, |E|=|F| \\right\\}\n",
    "\\end{equation}\n",
    "\n",
    "where $W_2^2(E,F)$ denotes the $2$-Wasserstein distance between the measures $E dx$ and $F dx$. Consequently, to compute $W_2^2(E)$ we look for a set $F$ outside of $E$ that is a close as possible to E in terms of Wasserstein distance, i.e. in terms of manually moving mass from $E$ to $F$.\n",
    "\n",
    "## Exterior transport of pacman\n",
    "\n",
    "\n",
    "<p align=\"center\">\n",
    "<img src=\"./pictures/example_pacman.png\" \n",
    "     width=\"30%;\"/>\n",
    "</p>\n",
    "\n",
    "<div style=\"text-align: center;\"> \n",
    "    <i> A set (in blue) and its minimiser for the exterior transport (in red). </i> </div>\n"
   ]
  },
  {
   "cell_type": "markdown",
   "id": "a621dc27",
   "metadata": {},
   "source": [
    "# A perturbed isoperimetric problem\n",
    "\n",
    "Let us now focus on the main question, that is the minimization of $P + c \\mathcal{W}_2^2$. The case where $c=0$ is well-known: it corresponds to the classical isoperimetric problem, which is solved by the ball.\n",
    "\n",
    "When $c$ is non zero but still small, can our problem be considered a perturbation of the classical isoperimetric problem? We positively answered this question in Theorem 1.3 of the article [\"An Exterior Transport Problem\"](https://arxiv.org/pdf/2309.02806) published in 2021. \n",
    "\n",
    "Let us give a numerical illustration of this result. We approximate minimizers of our problem by gradient descent. We start with a shape ressembling the ball, and observe whether it evolves into the ball as time passes. If it does so, then we have further evidence that the ball is, at least locally, a minimizer of $P + c\\mathcal{W}_2^2$ when $c$ is small."
   ]
  },
  {
   "cell_type": "markdown",
   "id": "eb73523e",
   "metadata": {},
   "source": [
    "# Case 1: the ball is a minimizer for small c\n",
    "\n",
    "Below is the main module of the python code. It mostly calls functions from the functions.py module, and allows to chose parameters. Again, see the [related article](./documentation/article_numerical_experiments.pdf) for the definitions of the parameters. In this first case, the relevant ones are the 'shape' one (the initial shape is an annulus) and $c$, which is $1$ in this first experiment. \n",
    "\n",
    "#### If you want to run the code yourself instead of just loading the figure, you can uncomment the last five lines."
   ]
  },
  {
   "cell_type": "code",
   "execution_count": 1,
   "id": "110fae75",
   "metadata": {},
   "outputs": [],
   "source": [
    "### third party libraries\n",
    "import numpy as np\n",
    "import matplotlib.colors as mcolors\n",
    "\n",
    "### custom functions\n",
    "from src.functions import display_figure, launch_simulation\n",
    "\n",
    "### grid and algorithm parameters\n",
    "m = np.pi\n",
    "N = 256\n",
    "L = 4\n",
    "h = L/N\n",
    "eps = 2*h\n",
    "eps_transport = 1e-2\n",
    "time_step = eps/2\n",
    "nb_iter = 10\n",
    "c = 1\n",
    "\n",
    "### shape parameters\n",
    "shape = 'annulus'\n",
    "extra = {'rmin':0.1}\n",
    "\n",
    "### colormap parameters\n",
    "colors = ['#ffffff', '#ffb3b3', '#b3b3ff']\n",
    "cmap = mcolors.LinearSegmentedColormap.from_list('custom_cmap', colors)\n",
    "\n",
    "### main of main\n",
    "#U_0, U_1, list_of_E, dic_param, list_of_U = launch_simulation(m, N, L, h, eps, \n",
    "#                        eps_transport, time_step, nb_iter, c, \n",
    "#                        shape=shape, extra=extra, timelapse=True)\n",
    "#\n",
    "#fig = display_figure(U_0, U_1, list_of_E, dic_param, cmap)"
   ]
  },
  {
   "cell_type": "markdown",
   "id": "108830d3",
   "metadata": {},
   "source": [
    "<p align=\"center\">\n",
    "<img src=\"./pictures/close_ball_c_small.png\" />\n",
    "</p>\n",
    "\n",
    "\n",
    "<div style=\"text-align: center; font-size: 20px;\"> \n",
    "    <i> A first experiment. </i> </div>"
   ]
  },
  {
   "cell_type": "markdown",
   "id": "91b62e86",
   "metadata": {},
   "source": [
    "## Some comments\n",
    "\n",
    "On the above picture, we can see that the initial data rapidly converges to a blurred ball. The final energy is approximately 7.35, which corresponds to the theoretical energy of the unit ball:\n",
    "\n",
    "\\begin{equation}\n",
    "\\mathcal{E}(B_1) = P(B_1) + W_2^2(B_1) = 2 \\pi + \\mathcal{W}_2^2(B_1) \\sim 6.28 + 1.05 = 7.35\n",
    "\\end{equation}\n",
    "\n",
    "The value $c= 1$ was not chosen at random. Through additional experiments, we discovered that there exists a critical value $c_0 \\sim 5.54$ above which the ball is not the local minimizer of $P + c \\mathcal{W}_2^2$ anymore. The value of $c_0$ we obtained experimentally is coherent with the one (denoted by $\\lambda_1$) obtained in the related article in the case of radially symmetric minimizers.\n",
    "\n",
    "Let us illustrate this fact with another simulation. We keep the same parameters as in the first experiment except for $c$, which is now 10."
   ]
  },
  {
   "cell_type": "code",
   "execution_count": 2,
   "id": "64306eb2",
   "metadata": {},
   "outputs": [],
   "source": [
    "c = 10\n",
    "#U_0, U_1, list_of_E, dic_param, list_of_U = launch_simulation(m, N, L, h, eps, \n",
    "#                        eps_transport, time_step, nb_iter, c, \n",
    "#                        shape=shape, extra=extra, timelapse=True)\n",
    "#\n",
    "#fig = display_figure(U_0, U_1, list_of_E, dic_param, cmap)"
   ]
  },
  {
   "cell_type": "markdown",
   "id": "578b7e0f",
   "metadata": {},
   "source": [
    "<p align=\"center\">\n",
    "<img src=\"./pictures/close_ball_c_big.png\"/>\n",
    "</p>\n",
    "\n",
    "<div style=\"text-align: center; font-size: 20px;\"> \n",
    "    <i> When the perimeter is not dominant anymore. </i> </div>"
   ]
  },
  {
   "cell_type": "markdown",
   "id": "1d14defb",
   "metadata": {},
   "source": [
    "In this case, the final shape is an annulus. Theoretical computations confirm that when c is large, the annulus has an energy lower than the one of the ball."
   ]
  }
 ],
 "metadata": {
  "kernelspec": {
   "display_name": "Python 3 (ipykernel)",
   "language": "python",
   "name": "python3"
  },
  "language_info": {
   "codemirror_mode": {
    "name": "ipython",
    "version": 3
   },
   "file_extension": ".py",
   "mimetype": "text/x-python",
   "name": "python",
   "nbconvert_exporter": "python",
   "pygments_lexer": "ipython3",
   "version": "3.10.9"
  }
 },
 "nbformat": 4,
 "nbformat_minor": 5
}
